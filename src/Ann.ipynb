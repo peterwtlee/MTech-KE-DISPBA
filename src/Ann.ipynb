{
 "cells": [
  {
   "cell_type": "code",
   "execution_count": 1,
   "metadata": {},
   "outputs": [],
   "source": [
    "import pandas as pd\n",
    "import numpy as np\n",
    "import sklearn.preprocessing\n",
    "from sklearn_pandas import DataFrameMapper\n",
    "from sklearn.preprocessing import StandardScaler\n",
    "\n",
    "# reference: https://github.com/pandas-dev/sklearn-pandas"
   ]
  },
  {
   "cell_type": "code",
   "execution_count": 2,
   "metadata": {
    "collapsed": true
   },
   "outputs": [],
   "source": [
    "dfTrial = pd.read_csv('../data/trialPromoResults.csv', index_col='index')\n",
    "dfCustdb = pd.read_csv('../data/custdatabase.csv', index_col='index')\n",
    "dfActual = pd.read_csv('../data/Cust_Actual.csv', index_col='index')\n",
    "dfTrain = pd.read_csv('../data/Train.csv', index_col='index')"
   ]
  },
  {
   "cell_type": "code",
   "execution_count": 3,
   "metadata": {
    "scrolled": true
   },
   "outputs": [
    {
     "data": {
      "text/plain": [
       "(1000, 10)"
      ]
     },
     "execution_count": 3,
     "metadata": {},
     "output_type": "execute_result"
    }
   ],
   "source": [
    "dfTrial.shape"
   ]
  },
  {
   "cell_type": "code",
   "execution_count": 4,
   "metadata": {},
   "outputs": [],
   "source": [
    "# map columns to transformations\n",
    "# outputting a dataframe\n",
    "# reference: https://github.com/pandas-dev/sklearn-pandas\n",
    "\n",
    "dfMapper = DataFrameMapper([\n",
    "    ('sex',sklearn.preprocessing.LabelBinarizer()),\n",
    "    ('mstatus',sklearn.preprocessing.LabelBinarizer()),\n",
    "    (['age'],sklearn.preprocessing.StandardScaler()),\n",
    "    ('occupation',sklearn.preprocessing.LabelBinarizer()),\n",
    "    ('education',sklearn.preprocessing.LabelBinarizer()),\n",
    "    (['income'],sklearn.preprocessing.StandardScaler()),\n",
    "    (['avbal'],sklearn.preprocessing.StandardScaler()),\n",
    "    (['avtrans'],sklearn.preprocessing.StandardScaler()),\n",
    "    ('decision', None)\n",
    "], df_out=True)"
   ]
  },
  {
   "cell_type": "code",
   "execution_count": 5,
   "metadata": {},
   "outputs": [
    {
     "data": {
      "text/html": [
       "<div>\n",
       "<style>\n",
       "    .dataframe thead tr:only-child th {\n",
       "        text-align: right;\n",
       "    }\n",
       "\n",
       "    .dataframe thead th {\n",
       "        text-align: left;\n",
       "    }\n",
       "\n",
       "    .dataframe tbody tr th {\n",
       "        vertical-align: top;\n",
       "    }\n",
       "</style>\n",
       "<table border=\"1\" class=\"dataframe\">\n",
       "  <thead>\n",
       "    <tr style=\"text-align: right;\">\n",
       "      <th></th>\n",
       "      <th>sex</th>\n",
       "      <th>mstatus_divorced</th>\n",
       "      <th>mstatus_married</th>\n",
       "      <th>mstatus_single</th>\n",
       "      <th>mstatus_widowed</th>\n",
       "      <th>age</th>\n",
       "      <th>occupation_IT</th>\n",
       "      <th>occupation_construct</th>\n",
       "      <th>occupation_education</th>\n",
       "      <th>occupation_finance</th>\n",
       "      <th>...</th>\n",
       "      <th>occupation_medicine</th>\n",
       "      <th>occupation_retired</th>\n",
       "      <th>education_postgrad</th>\n",
       "      <th>education_professional</th>\n",
       "      <th>education_secondary</th>\n",
       "      <th>education_tertiary</th>\n",
       "      <th>income</th>\n",
       "      <th>avbal</th>\n",
       "      <th>avtrans</th>\n",
       "      <th>decision</th>\n",
       "    </tr>\n",
       "  </thead>\n",
       "  <tbody>\n",
       "    <tr>\n",
       "      <th>0</th>\n",
       "      <td>0</td>\n",
       "      <td>0</td>\n",
       "      <td>1</td>\n",
       "      <td>0</td>\n",
       "      <td>0</td>\n",
       "      <td>1.05141</td>\n",
       "      <td>0</td>\n",
       "      <td>0</td>\n",
       "      <td>0</td>\n",
       "      <td>0</td>\n",
       "      <td>...</td>\n",
       "      <td>0</td>\n",
       "      <td>0</td>\n",
       "      <td>0</td>\n",
       "      <td>0</td>\n",
       "      <td>1</td>\n",
       "      <td>0</td>\n",
       "      <td>-0.614625</td>\n",
       "      <td>0.986559</td>\n",
       "      <td>-0.0622867</td>\n",
       "      <td>None</td>\n",
       "    </tr>\n",
       "    <tr>\n",
       "      <th>1</th>\n",
       "      <td>1</td>\n",
       "      <td>0</td>\n",
       "      <td>0</td>\n",
       "      <td>0</td>\n",
       "      <td>1</td>\n",
       "      <td>3.18537</td>\n",
       "      <td>0</td>\n",
       "      <td>0</td>\n",
       "      <td>0</td>\n",
       "      <td>0</td>\n",
       "      <td>...</td>\n",
       "      <td>0</td>\n",
       "      <td>1</td>\n",
       "      <td>0</td>\n",
       "      <td>0</td>\n",
       "      <td>0</td>\n",
       "      <td>1</td>\n",
       "      <td>-0.0749526</td>\n",
       "      <td>-0.249461</td>\n",
       "      <td>-0.780053</td>\n",
       "      <td>None</td>\n",
       "    </tr>\n",
       "    <tr>\n",
       "      <th>2</th>\n",
       "      <td>1</td>\n",
       "      <td>0</td>\n",
       "      <td>0</td>\n",
       "      <td>1</td>\n",
       "      <td>0</td>\n",
       "      <td>-0.910599</td>\n",
       "      <td>0</td>\n",
       "      <td>0</td>\n",
       "      <td>0</td>\n",
       "      <td>0</td>\n",
       "      <td>...</td>\n",
       "      <td>0</td>\n",
       "      <td>0</td>\n",
       "      <td>0</td>\n",
       "      <td>1</td>\n",
       "      <td>0</td>\n",
       "      <td>0</td>\n",
       "      <td>2.7805</td>\n",
       "      <td>0.723721</td>\n",
       "      <td>1.08074</td>\n",
       "      <td>B</td>\n",
       "    </tr>\n",
       "    <tr>\n",
       "      <th>3</th>\n",
       "      <td>0</td>\n",
       "      <td>0</td>\n",
       "      <td>1</td>\n",
       "      <td>0</td>\n",
       "      <td>0</td>\n",
       "      <td>-0.424116</td>\n",
       "      <td>0</td>\n",
       "      <td>0</td>\n",
       "      <td>1</td>\n",
       "      <td>0</td>\n",
       "      <td>...</td>\n",
       "      <td>0</td>\n",
       "      <td>0</td>\n",
       "      <td>1</td>\n",
       "      <td>0</td>\n",
       "      <td>0</td>\n",
       "      <td>0</td>\n",
       "      <td>-0.581202</td>\n",
       "      <td>-0.558764</td>\n",
       "      <td>0.110056</td>\n",
       "      <td>None</td>\n",
       "    </tr>\n",
       "    <tr>\n",
       "      <th>4</th>\n",
       "      <td>1</td>\n",
       "      <td>0</td>\n",
       "      <td>0</td>\n",
       "      <td>1</td>\n",
       "      <td>0</td>\n",
       "      <td>-1.48515</td>\n",
       "      <td>0</td>\n",
       "      <td>1</td>\n",
       "      <td>0</td>\n",
       "      <td>0</td>\n",
       "      <td>...</td>\n",
       "      <td>0</td>\n",
       "      <td>0</td>\n",
       "      <td>0</td>\n",
       "      <td>0</td>\n",
       "      <td>0</td>\n",
       "      <td>1</td>\n",
       "      <td>-0.581202</td>\n",
       "      <td>-0.558764</td>\n",
       "      <td>0.110056</td>\n",
       "      <td>None</td>\n",
       "    </tr>\n",
       "  </tbody>\n",
       "</table>\n",
       "<p>5 rows × 23 columns</p>\n",
       "</div>"
      ],
      "text/plain": [
       "  sex mstatus_divorced mstatus_married mstatus_single mstatus_widowed  \\\n",
       "0   0                0               1              0               0   \n",
       "1   1                0               0              0               1   \n",
       "2   1                0               0              1               0   \n",
       "3   0                0               1              0               0   \n",
       "4   1                0               0              1               0   \n",
       "\n",
       "        age occupation_IT occupation_construct occupation_education  \\\n",
       "0   1.05141             0                    0                    0   \n",
       "1   3.18537             0                    0                    0   \n",
       "2 -0.910599             0                    0                    0   \n",
       "3 -0.424116             0                    0                    1   \n",
       "4  -1.48515             0                    1                    0   \n",
       "\n",
       "  occupation_finance   ...    occupation_medicine occupation_retired  \\\n",
       "0                  0   ...                      0                  0   \n",
       "1                  0   ...                      0                  1   \n",
       "2                  0   ...                      0                  0   \n",
       "3                  0   ...                      0                  0   \n",
       "4                  0   ...                      0                  0   \n",
       "\n",
       "  education_postgrad education_professional education_secondary  \\\n",
       "0                  0                      0                   1   \n",
       "1                  0                      0                   0   \n",
       "2                  0                      1                   0   \n",
       "3                  1                      0                   0   \n",
       "4                  0                      0                   0   \n",
       "\n",
       "  education_tertiary     income     avbal    avtrans decision  \n",
       "0                  0  -0.614625  0.986559 -0.0622867     None  \n",
       "1                  1 -0.0749526 -0.249461  -0.780053     None  \n",
       "2                  0     2.7805  0.723721    1.08074        B  \n",
       "3                  0  -0.581202 -0.558764   0.110056     None  \n",
       "4                  1  -0.581202 -0.558764   0.110056     None  \n",
       "\n",
       "[5 rows x 23 columns]"
      ]
     },
     "execution_count": 5,
     "metadata": {},
     "output_type": "execute_result"
    }
   ],
   "source": [
    "dfm = np.round(dfMapper.fit_transform(dfTrial.copy()),2)\n",
    "dfm.head()"
   ]
  },
  {
   "cell_type": "code",
   "execution_count": 6,
   "metadata": {},
   "outputs": [
    {
     "data": {
      "text/plain": [
       "['sex',\n",
       " 'mstatus_divorced',\n",
       " 'mstatus_married',\n",
       " 'mstatus_single',\n",
       " 'mstatus_widowed',\n",
       " 'age',\n",
       " 'occupation_IT',\n",
       " 'occupation_construct',\n",
       " 'occupation_education',\n",
       " 'occupation_finance',\n",
       " 'occupation_government',\n",
       " 'occupation_legal',\n",
       " 'occupation_manuf',\n",
       " 'occupation_medicine',\n",
       " 'occupation_retired',\n",
       " 'education_postgrad',\n",
       " 'education_professional',\n",
       " 'education_secondary',\n",
       " 'education_tertiary',\n",
       " 'income',\n",
       " 'avbal',\n",
       " 'avtrans',\n",
       " 'decision']"
      ]
     },
     "execution_count": 6,
     "metadata": {},
     "output_type": "execute_result"
    }
   ],
   "source": [
    "# list all columns with transformed names\n",
    "dfMapper.transformed_names_"
   ]
  },
  {
   "cell_type": "code",
   "execution_count": 7,
   "metadata": {},
   "outputs": [
    {
     "data": {
      "text/plain": [
       "Index(['sex', 'mstatus_divorced', 'mstatus_married', 'mstatus_single',\n",
       "       'mstatus_widowed', 'age', 'occupation_IT', 'occupation_construct',\n",
       "       'occupation_education', 'occupation_finance', 'occupation_government',\n",
       "       'occupation_legal', 'occupation_manuf', 'occupation_medicine',\n",
       "       'occupation_retired', 'education_postgrad', 'education_professional',\n",
       "       'education_secondary', 'education_tertiary', 'income', 'avbal',\n",
       "       'avtrans', 'decision'],\n",
       "      dtype='object')"
      ]
     },
     "execution_count": 7,
     "metadata": {},
     "output_type": "execute_result"
    }
   ],
   "source": [
    "dfm.columns"
   ]
  },
  {
   "cell_type": "code",
   "execution_count": 8,
   "metadata": {
    "collapsed": true
   },
   "outputs": [],
   "source": [
    "# Below onwards is on feeding data to NN\n",
    "# reference: https://www.springboard.com/blog/beginners-guide-neural-network-in-python-scikit-learn-0-18/\n",
    "\n",
    "from sklearn.neural_network import MLPClassifier\n",
    "from sklearn.metrics import classification_report,confusion_matrix\n",
    "from sklearn.model_selection import train_test_split"
   ]
  },
  {
   "cell_type": "code",
   "execution_count": 9,
   "metadata": {},
   "outputs": [],
   "source": [
    "mlp = MLPClassifier(hidden_layer_sizes=(13,13,13),max_iter=500)"
   ]
  },
  {
   "cell_type": "code",
   "execution_count": 10,
   "metadata": {},
   "outputs": [],
   "source": [
    "x = dfm.drop('decision',axis=1)\n",
    "y = dfm['decision']"
   ]
  },
  {
   "cell_type": "code",
   "execution_count": 11,
   "metadata": {},
   "outputs": [],
   "source": [
    "x_train, x_test, y_train, y_test = train_test_split(x, y)"
   ]
  },
  {
   "cell_type": "code",
   "execution_count": 12,
   "metadata": {},
   "outputs": [
    {
     "data": {
      "text/plain": [
       "MLPClassifier(activation='relu', alpha=0.0001, batch_size='auto', beta_1=0.9,\n",
       "       beta_2=0.999, early_stopping=False, epsilon=1e-08,\n",
       "       hidden_layer_sizes=(13, 13, 13), learning_rate='constant',\n",
       "       learning_rate_init=0.001, max_iter=500, momentum=0.9,\n",
       "       nesterovs_momentum=True, power_t=0.5, random_state=None,\n",
       "       shuffle=True, solver='adam', tol=0.0001, validation_fraction=0.1,\n",
       "       verbose=False, warm_start=False)"
      ]
     },
     "execution_count": 12,
     "metadata": {},
     "output_type": "execute_result"
    }
   ],
   "source": [
    "mlp.fit(x_train, y_train)"
   ]
  },
  {
   "cell_type": "code",
   "execution_count": 13,
   "metadata": {
    "scrolled": true
   },
   "outputs": [
    {
     "name": "stdout",
     "output_type": "stream",
     "text": [
      "             precision    recall  f1-score   support\n",
      "\n",
      "          A       0.27      0.24      0.25        29\n",
      "          B       0.00      0.00      0.00         8\n",
      "       None       0.86      0.90      0.88       213\n",
      "\n",
      "avg / total       0.77      0.80      0.78       250\n",
      "\n"
     ]
    }
   ],
   "source": [
    "predictions = mlp.predict(x_test)\n",
    "print(classification_report(y_test,predictions))"
   ]
  },
  {
   "cell_type": "code",
   "execution_count": 21,
   "metadata": {},
   "outputs": [
    {
     "data": {
      "text/plain": [
       "MLPClassifier(activation='relu', alpha=0.0001, batch_size='auto', beta_1=0.9,\n",
       "       beta_2=0.999, early_stopping=False, epsilon=1e-08,\n",
       "       hidden_layer_sizes=(13, 13, 13), learning_rate='constant',\n",
       "       learning_rate_init=0.001, max_iter=500, momentum=0.9,\n",
       "       nesterovs_momentum=True, power_t=0.5, random_state=None,\n",
       "       shuffle=True, solver='adam', tol=0.0001, validation_fraction=0.1,\n",
       "       verbose=False, warm_start=False)"
      ]
     },
     "execution_count": 21,
     "metadata": {},
     "output_type": "execute_result"
    }
   ],
   "source": [
    "mlp.fit(x, y)"
   ]
  },
  {
   "cell_type": "code",
   "execution_count": 22,
   "metadata": {
    "scrolled": true
   },
   "outputs": [
    {
     "name": "stdout",
     "output_type": "stream",
     "text": [
      "             precision    recall  f1-score   support\n",
      "\n",
      "          A       0.85      0.59      0.69        29\n",
      "          B       0.67      0.25      0.36         8\n",
      "       None       0.92      0.98      0.95       213\n",
      "\n",
      "avg / total       0.90      0.91      0.90       250\n",
      "\n"
     ]
    }
   ],
   "source": [
    "predictions = mlp.predict(x_test)\n",
    "print(classification_report(y_test,predictions))"
   ]
  },
  {
   "cell_type": "markdown",
   "metadata": {},
   "source": [
    "# fit model to customer base"
   ]
  },
  {
   "cell_type": "code",
   "execution_count": 16,
   "metadata": {},
   "outputs": [
    {
     "data": {
      "text/plain": [
       "(4000, 9)"
      ]
     },
     "execution_count": 16,
     "metadata": {},
     "output_type": "execute_result"
    }
   ],
   "source": [
    "dfCustdb.shape"
   ]
  },
  {
   "cell_type": "code",
   "execution_count": 17,
   "metadata": {
    "collapsed": true
   },
   "outputs": [],
   "source": [
    "dfCustMapper = DataFrameMapper([\n",
    "    ('sex',sklearn.preprocessing.LabelBinarizer()),\n",
    "    ('mstatus',sklearn.preprocessing.LabelBinarizer()),\n",
    "    (['age'],sklearn.preprocessing.StandardScaler()),\n",
    "    ('occupation',sklearn.preprocessing.LabelBinarizer()),\n",
    "    ('education',sklearn.preprocessing.LabelBinarizer()),\n",
    "    (['income'],sklearn.preprocessing.StandardScaler()),\n",
    "    (['avbal'],sklearn.preprocessing.StandardScaler()),\n",
    "    (['avtrans'],sklearn.preprocessing.StandardScaler())\n",
    "], df_out=True)"
   ]
  },
  {
   "cell_type": "code",
   "execution_count": 18,
   "metadata": {},
   "outputs": [
    {
     "data": {
      "text/html": [
       "<div>\n",
       "<style>\n",
       "    .dataframe thead tr:only-child th {\n",
       "        text-align: right;\n",
       "    }\n",
       "\n",
       "    .dataframe thead th {\n",
       "        text-align: left;\n",
       "    }\n",
       "\n",
       "    .dataframe tbody tr th {\n",
       "        vertical-align: top;\n",
       "    }\n",
       "</style>\n",
       "<table border=\"1\" class=\"dataframe\">\n",
       "  <thead>\n",
       "    <tr style=\"text-align: right;\">\n",
       "      <th></th>\n",
       "      <th>sex</th>\n",
       "      <th>mstatus_divorced</th>\n",
       "      <th>mstatus_married</th>\n",
       "      <th>mstatus_single</th>\n",
       "      <th>mstatus_widowed</th>\n",
       "      <th>age</th>\n",
       "      <th>occupation_IT</th>\n",
       "      <th>occupation_construct</th>\n",
       "      <th>occupation_education</th>\n",
       "      <th>occupation_finance</th>\n",
       "      <th>...</th>\n",
       "      <th>occupation_manuf</th>\n",
       "      <th>occupation_medicine</th>\n",
       "      <th>occupation_retired</th>\n",
       "      <th>education_postgrad</th>\n",
       "      <th>education_professional</th>\n",
       "      <th>education_secondary</th>\n",
       "      <th>education_tertiary</th>\n",
       "      <th>income</th>\n",
       "      <th>avbal</th>\n",
       "      <th>avtrans</th>\n",
       "    </tr>\n",
       "  </thead>\n",
       "  <tbody>\n",
       "    <tr>\n",
       "      <th>0</th>\n",
       "      <td>1.0</td>\n",
       "      <td>1.0</td>\n",
       "      <td>0.0</td>\n",
       "      <td>0.0</td>\n",
       "      <td>0.0</td>\n",
       "      <td>0.25</td>\n",
       "      <td>0.0</td>\n",
       "      <td>0.0</td>\n",
       "      <td>0.0</td>\n",
       "      <td>0.0</td>\n",
       "      <td>...</td>\n",
       "      <td>0.0</td>\n",
       "      <td>0.0</td>\n",
       "      <td>0.0</td>\n",
       "      <td>1.0</td>\n",
       "      <td>0.0</td>\n",
       "      <td>0.0</td>\n",
       "      <td>0.0</td>\n",
       "      <td>1.49</td>\n",
       "      <td>2.60</td>\n",
       "      <td>1.62</td>\n",
       "    </tr>\n",
       "    <tr>\n",
       "      <th>1</th>\n",
       "      <td>1.0</td>\n",
       "      <td>0.0</td>\n",
       "      <td>1.0</td>\n",
       "      <td>0.0</td>\n",
       "      <td>0.0</td>\n",
       "      <td>1.51</td>\n",
       "      <td>0.0</td>\n",
       "      <td>0.0</td>\n",
       "      <td>0.0</td>\n",
       "      <td>0.0</td>\n",
       "      <td>...</td>\n",
       "      <td>0.0</td>\n",
       "      <td>0.0</td>\n",
       "      <td>0.0</td>\n",
       "      <td>0.0</td>\n",
       "      <td>0.0</td>\n",
       "      <td>1.0</td>\n",
       "      <td>0.0</td>\n",
       "      <td>-1.02</td>\n",
       "      <td>-0.36</td>\n",
       "      <td>-0.31</td>\n",
       "    </tr>\n",
       "    <tr>\n",
       "      <th>2</th>\n",
       "      <td>1.0</td>\n",
       "      <td>1.0</td>\n",
       "      <td>0.0</td>\n",
       "      <td>0.0</td>\n",
       "      <td>0.0</td>\n",
       "      <td>-0.24</td>\n",
       "      <td>1.0</td>\n",
       "      <td>0.0</td>\n",
       "      <td>0.0</td>\n",
       "      <td>0.0</td>\n",
       "      <td>...</td>\n",
       "      <td>0.0</td>\n",
       "      <td>0.0</td>\n",
       "      <td>0.0</td>\n",
       "      <td>0.0</td>\n",
       "      <td>0.0</td>\n",
       "      <td>0.0</td>\n",
       "      <td>1.0</td>\n",
       "      <td>1.39</td>\n",
       "      <td>0.18</td>\n",
       "      <td>0.60</td>\n",
       "    </tr>\n",
       "    <tr>\n",
       "      <th>3</th>\n",
       "      <td>0.0</td>\n",
       "      <td>1.0</td>\n",
       "      <td>0.0</td>\n",
       "      <td>0.0</td>\n",
       "      <td>0.0</td>\n",
       "      <td>-1.11</td>\n",
       "      <td>0.0</td>\n",
       "      <td>0.0</td>\n",
       "      <td>0.0</td>\n",
       "      <td>0.0</td>\n",
       "      <td>...</td>\n",
       "      <td>0.0</td>\n",
       "      <td>0.0</td>\n",
       "      <td>0.0</td>\n",
       "      <td>1.0</td>\n",
       "      <td>0.0</td>\n",
       "      <td>0.0</td>\n",
       "      <td>0.0</td>\n",
       "      <td>1.46</td>\n",
       "      <td>0.37</td>\n",
       "      <td>1.68</td>\n",
       "    </tr>\n",
       "    <tr>\n",
       "      <th>4</th>\n",
       "      <td>0.0</td>\n",
       "      <td>1.0</td>\n",
       "      <td>0.0</td>\n",
       "      <td>0.0</td>\n",
       "      <td>0.0</td>\n",
       "      <td>0.54</td>\n",
       "      <td>0.0</td>\n",
       "      <td>0.0</td>\n",
       "      <td>0.0</td>\n",
       "      <td>0.0</td>\n",
       "      <td>...</td>\n",
       "      <td>0.0</td>\n",
       "      <td>0.0</td>\n",
       "      <td>0.0</td>\n",
       "      <td>0.0</td>\n",
       "      <td>0.0</td>\n",
       "      <td>1.0</td>\n",
       "      <td>0.0</td>\n",
       "      <td>-0.84</td>\n",
       "      <td>-0.75</td>\n",
       "      <td>-1.28</td>\n",
       "    </tr>\n",
       "  </tbody>\n",
       "</table>\n",
       "<p>5 rows × 22 columns</p>\n",
       "</div>"
      ],
      "text/plain": [
       "   sex  mstatus_divorced  mstatus_married  mstatus_single  mstatus_widowed  \\\n",
       "0  1.0               1.0              0.0             0.0              0.0   \n",
       "1  1.0               0.0              1.0             0.0              0.0   \n",
       "2  1.0               1.0              0.0             0.0              0.0   \n",
       "3  0.0               1.0              0.0             0.0              0.0   \n",
       "4  0.0               1.0              0.0             0.0              0.0   \n",
       "\n",
       "    age  occupation_IT  occupation_construct  occupation_education  \\\n",
       "0  0.25            0.0                   0.0                   0.0   \n",
       "1  1.51            0.0                   0.0                   0.0   \n",
       "2 -0.24            1.0                   0.0                   0.0   \n",
       "3 -1.11            0.0                   0.0                   0.0   \n",
       "4  0.54            0.0                   0.0                   0.0   \n",
       "\n",
       "   occupation_finance   ...     occupation_manuf  occupation_medicine  \\\n",
       "0                 0.0   ...                  0.0                  0.0   \n",
       "1                 0.0   ...                  0.0                  0.0   \n",
       "2                 0.0   ...                  0.0                  0.0   \n",
       "3                 0.0   ...                  0.0                  0.0   \n",
       "4                 0.0   ...                  0.0                  0.0   \n",
       "\n",
       "   occupation_retired  education_postgrad  education_professional  \\\n",
       "0                 0.0                 1.0                     0.0   \n",
       "1                 0.0                 0.0                     0.0   \n",
       "2                 0.0                 0.0                     0.0   \n",
       "3                 0.0                 1.0                     0.0   \n",
       "4                 0.0                 0.0                     0.0   \n",
       "\n",
       "   education_secondary  education_tertiary  income  avbal  avtrans  \n",
       "0                  0.0                 0.0    1.49   2.60     1.62  \n",
       "1                  1.0                 0.0   -1.02  -0.36    -0.31  \n",
       "2                  0.0                 1.0    1.39   0.18     0.60  \n",
       "3                  0.0                 0.0    1.46   0.37     1.68  \n",
       "4                  1.0                 0.0   -0.84  -0.75    -1.28  \n",
       "\n",
       "[5 rows x 22 columns]"
      ]
     },
     "execution_count": 18,
     "metadata": {},
     "output_type": "execute_result"
    }
   ],
   "source": [
    "dfmCustdb = np.round(dfCustMapper.fit_transform(dfCustdb.copy()),2)\n",
    "dfmCustdb.head()"
   ]
  },
  {
   "cell_type": "code",
   "execution_count": 23,
   "metadata": {},
   "outputs": [
    {
     "data": {
      "text/plain": [
       "array(['None', 'B', 'A'], dtype=object)"
      ]
     },
     "execution_count": 23,
     "metadata": {},
     "output_type": "execute_result"
    }
   ],
   "source": [
    "outputDf = mlp.predict(dfmCustdb)\n",
    "dfCustdb['decision'] = outputDf\n",
    "dfCustdb['decision'].unique()"
   ]
  },
  {
   "cell_type": "code",
   "execution_count": 24,
   "metadata": {},
   "outputs": [
    {
     "data": {
      "text/plain": [
       "(444, 10)"
      ]
     },
     "execution_count": 24,
     "metadata": {},
     "output_type": "execute_result"
    }
   ],
   "source": [
    "targetCust = dfCustdb[dfCustdb['decision'] != 'None']\n",
    "targetCust.shape"
   ]
  },
  {
   "cell_type": "code",
   "execution_count": null,
   "metadata": {
    "collapsed": true
   },
   "outputs": [],
   "source": [
    "targetCust.to_csv(../data/.csv)"
   ]
  }
 ],
 "metadata": {
  "kernelspec": {
   "display_name": "Python 3",
   "language": "python",
   "name": "python3"
  },
  "language_info": {
   "codemirror_mode": {
    "name": "ipython",
    "version": 3
   },
   "file_extension": ".py",
   "mimetype": "text/x-python",
   "name": "python",
   "nbconvert_exporter": "python",
   "pygments_lexer": "ipython3",
   "version": "3.6.1"
  }
 },
 "nbformat": 4,
 "nbformat_minor": 2
}

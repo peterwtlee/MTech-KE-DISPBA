{
 "cells": [
  {
   "cell_type": "code",
   "execution_count": 8,
   "metadata": {
    "collapsed": true
   },
   "outputs": [],
   "source": [
    "import pandas as pd\n",
    "import numpy as np\n",
    "import skfuzzy as fuzz\n",
    "from skfuzzy import control as ctrl\n",
    "import matplotlib.pyplot as plt\n",
    "%matplotlib inline"
   ]
  },
  {
   "cell_type": "code",
   "execution_count": 3,
   "metadata": {
    "collapsed": true
   },
   "outputs": [],
   "source": [
    "dfTrial = pd.read_csv('../data/trialPromoResults.csv', index_col='index')\n",
    "dfCust = pd.read_csv('../data/custdatabase.csv', index_col='index')\n",
    "dfActual = pd.read_csv('../data/Cust_Actual.csv', index_col='index')\n",
    "dfTrain = pd.read_csv('../data/Train.csv', index_col='index')"
   ]
  },
  {
   "cell_type": "code",
   "execution_count": 100,
   "metadata": {},
   "outputs": [
    {
     "data": {
      "text/html": [
       "<div>\n",
       "<style>\n",
       "    .dataframe thead tr:only-child th {\n",
       "        text-align: right;\n",
       "    }\n",
       "\n",
       "    .dataframe thead th {\n",
       "        text-align: left;\n",
       "    }\n",
       "\n",
       "    .dataframe tbody tr th {\n",
       "        vertical-align: top;\n",
       "    }\n",
       "</style>\n",
       "<table border=\"1\" class=\"dataframe\">\n",
       "  <thead>\n",
       "    <tr style=\"text-align: right;\">\n",
       "      <th></th>\n",
       "      <th>age</th>\n",
       "      <th>children</th>\n",
       "      <th>income</th>\n",
       "      <th>avbal</th>\n",
       "      <th>avtrans</th>\n",
       "    </tr>\n",
       "  </thead>\n",
       "  <tbody>\n",
       "    <tr>\n",
       "      <th>count</th>\n",
       "      <td>1000.000000</td>\n",
       "      <td>1000.000000</td>\n",
       "      <td>1000.000000</td>\n",
       "      <td>1000.000000</td>\n",
       "      <td>1000.000000</td>\n",
       "    </tr>\n",
       "    <tr>\n",
       "      <th>mean</th>\n",
       "      <td>41.777720</td>\n",
       "      <td>1.003000</td>\n",
       "      <td>5119.725060</td>\n",
       "      <td>21779.968610</td>\n",
       "      <td>1856.060490</td>\n",
       "    </tr>\n",
       "    <tr>\n",
       "      <th>std</th>\n",
       "      <td>14.313917</td>\n",
       "      <td>1.104632</td>\n",
       "      <td>3278.980026</td>\n",
       "      <td>11382.111805</td>\n",
       "      <td>1272.986294</td>\n",
       "    </tr>\n",
       "    <tr>\n",
       "      <th>min</th>\n",
       "      <td>18.050000</td>\n",
       "      <td>0.000000</td>\n",
       "      <td>369.520000</td>\n",
       "      <td>814.950000</td>\n",
       "      <td>45.760000</td>\n",
       "    </tr>\n",
       "    <tr>\n",
       "      <th>25%</th>\n",
       "      <td>29.395000</td>\n",
       "      <td>0.000000</td>\n",
       "      <td>2545.725000</td>\n",
       "      <td>13984.857500</td>\n",
       "      <td>994.850000</td>\n",
       "    </tr>\n",
       "    <tr>\n",
       "      <th>50%</th>\n",
       "      <td>39.945000</td>\n",
       "      <td>1.000000</td>\n",
       "      <td>4329.940000</td>\n",
       "      <td>19956.505000</td>\n",
       "      <td>1485.590000</td>\n",
       "    </tr>\n",
       "    <tr>\n",
       "      <th>75%</th>\n",
       "      <td>50.080000</td>\n",
       "      <td>2.000000</td>\n",
       "      <td>7167.150000</td>\n",
       "      <td>27100.500000</td>\n",
       "      <td>2400.497500</td>\n",
       "    </tr>\n",
       "    <tr>\n",
       "      <th>max</th>\n",
       "      <td>89.910000</td>\n",
       "      <td>4.000000</td>\n",
       "      <td>19715.690000</td>\n",
       "      <td>78385.030000</td>\n",
       "      <td>8138.310000</td>\n",
       "    </tr>\n",
       "  </tbody>\n",
       "</table>\n",
       "</div>"
      ],
      "text/plain": [
       "               age     children        income         avbal      avtrans\n",
       "count  1000.000000  1000.000000   1000.000000   1000.000000  1000.000000\n",
       "mean     41.777720     1.003000   5119.725060  21779.968610  1856.060490\n",
       "std      14.313917     1.104632   3278.980026  11382.111805  1272.986294\n",
       "min      18.050000     0.000000    369.520000    814.950000    45.760000\n",
       "25%      29.395000     0.000000   2545.725000  13984.857500   994.850000\n",
       "50%      39.945000     1.000000   4329.940000  19956.505000  1485.590000\n",
       "75%      50.080000     2.000000   7167.150000  27100.500000  2400.497500\n",
       "max      89.910000     4.000000  19715.690000  78385.030000  8138.310000"
      ]
     },
     "execution_count": 100,
     "metadata": {},
     "output_type": "execute_result"
    }
   ],
   "source": [
    "dfTrial.describe()"
   ]
  },
  {
   "cell_type": "code",
   "execution_count": 101,
   "metadata": {},
   "outputs": [
    {
     "data": {
      "text/html": [
       "<div>\n",
       "<style>\n",
       "    .dataframe thead tr:only-child th {\n",
       "        text-align: right;\n",
       "    }\n",
       "\n",
       "    .dataframe thead th {\n",
       "        text-align: left;\n",
       "    }\n",
       "\n",
       "    .dataframe tbody tr th {\n",
       "        vertical-align: top;\n",
       "    }\n",
       "</style>\n",
       "<table border=\"1\" class=\"dataframe\">\n",
       "  <thead>\n",
       "    <tr style=\"text-align: right;\">\n",
       "      <th></th>\n",
       "      <th>sex</th>\n",
       "      <th>mstatus</th>\n",
       "      <th>age</th>\n",
       "      <th>children</th>\n",
       "      <th>occupation</th>\n",
       "      <th>education</th>\n",
       "      <th>income</th>\n",
       "      <th>avbal</th>\n",
       "      <th>avtrans</th>\n",
       "      <th>decision</th>\n",
       "    </tr>\n",
       "    <tr>\n",
       "      <th>index</th>\n",
       "      <th></th>\n",
       "      <th></th>\n",
       "      <th></th>\n",
       "      <th></th>\n",
       "      <th></th>\n",
       "      <th></th>\n",
       "      <th></th>\n",
       "      <th></th>\n",
       "      <th></th>\n",
       "      <th></th>\n",
       "    </tr>\n",
       "  </thead>\n",
       "  <tbody>\n",
       "    <tr>\n",
       "      <th>1</th>\n",
       "      <td>F</td>\n",
       "      <td>married</td>\n",
       "      <td>56.82</td>\n",
       "      <td>1</td>\n",
       "      <td>legal</td>\n",
       "      <td>secondary</td>\n",
       "      <td>3105.39</td>\n",
       "      <td>33003.48</td>\n",
       "      <td>1776.81</td>\n",
       "      <td>None</td>\n",
       "    </tr>\n",
       "    <tr>\n",
       "      <th>2</th>\n",
       "      <td>M</td>\n",
       "      <td>widowed</td>\n",
       "      <td>87.35</td>\n",
       "      <td>3</td>\n",
       "      <td>retired</td>\n",
       "      <td>tertiary</td>\n",
       "      <td>4874.08</td>\n",
       "      <td>18941.99</td>\n",
       "      <td>863.56</td>\n",
       "      <td>None</td>\n",
       "    </tr>\n",
       "    <tr>\n",
       "      <th>3</th>\n",
       "      <td>M</td>\n",
       "      <td>single</td>\n",
       "      <td>28.75</td>\n",
       "      <td>0</td>\n",
       "      <td>manuf</td>\n",
       "      <td>professional</td>\n",
       "      <td>14232.37</td>\n",
       "      <td>30013.32</td>\n",
       "      <td>3231.14</td>\n",
       "      <td>B</td>\n",
       "    </tr>\n",
       "    <tr>\n",
       "      <th>4</th>\n",
       "      <td>F</td>\n",
       "      <td>married</td>\n",
       "      <td>35.71</td>\n",
       "      <td>0</td>\n",
       "      <td>education</td>\n",
       "      <td>postgrad</td>\n",
       "      <td>3214.93</td>\n",
       "      <td>15423.24</td>\n",
       "      <td>1996.09</td>\n",
       "      <td>None</td>\n",
       "    </tr>\n",
       "    <tr>\n",
       "      <th>5</th>\n",
       "      <td>M</td>\n",
       "      <td>single</td>\n",
       "      <td>20.53</td>\n",
       "      <td>0</td>\n",
       "      <td>construct</td>\n",
       "      <td>tertiary</td>\n",
       "      <td>3214.93</td>\n",
       "      <td>15423.24</td>\n",
       "      <td>1996.09</td>\n",
       "      <td>None</td>\n",
       "    </tr>\n",
       "  </tbody>\n",
       "</table>\n",
       "</div>"
      ],
      "text/plain": [
       "      sex  mstatus    age  children occupation     education    income  \\\n",
       "index                                                                    \n",
       "1       F  married  56.82         1      legal     secondary   3105.39   \n",
       "2       M  widowed  87.35         3    retired      tertiary   4874.08   \n",
       "3       M   single  28.75         0      manuf  professional  14232.37   \n",
       "4       F  married  35.71         0  education      postgrad   3214.93   \n",
       "5       M   single  20.53         0  construct      tertiary   3214.93   \n",
       "\n",
       "          avbal  avtrans decision  \n",
       "index                              \n",
       "1      33003.48  1776.81     None  \n",
       "2      18941.99   863.56     None  \n",
       "3      30013.32  3231.14        B  \n",
       "4      15423.24  1996.09     None  \n",
       "5      15423.24  1996.09     None  "
      ]
     },
     "execution_count": 101,
     "metadata": {},
     "output_type": "execute_result"
    }
   ],
   "source": [
    "dfTrial.head()"
   ]
  },
  {
   "cell_type": "code",
   "execution_count": 102,
   "metadata": {},
   "outputs": [
    {
     "data": {
      "text/html": [
       "<div>\n",
       "<style>\n",
       "    .dataframe thead tr:only-child th {\n",
       "        text-align: right;\n",
       "    }\n",
       "\n",
       "    .dataframe thead th {\n",
       "        text-align: left;\n",
       "    }\n",
       "\n",
       "    .dataframe tbody tr th {\n",
       "        vertical-align: top;\n",
       "    }\n",
       "</style>\n",
       "<table border=\"1\" class=\"dataframe\">\n",
       "  <thead>\n",
       "    <tr style=\"text-align: right;\">\n",
       "      <th></th>\n",
       "      <th>sex</th>\n",
       "      <th>mstatus</th>\n",
       "      <th>age</th>\n",
       "      <th>children</th>\n",
       "      <th>occupation</th>\n",
       "      <th>education</th>\n",
       "      <th>income</th>\n",
       "      <th>avbal</th>\n",
       "      <th>avtrans</th>\n",
       "      <th>status</th>\n",
       "      <th>p_score</th>\n",
       "    </tr>\n",
       "    <tr>\n",
       "      <th>index</th>\n",
       "      <th></th>\n",
       "      <th></th>\n",
       "      <th></th>\n",
       "      <th></th>\n",
       "      <th></th>\n",
       "      <th></th>\n",
       "      <th></th>\n",
       "      <th></th>\n",
       "      <th></th>\n",
       "      <th></th>\n",
       "      <th></th>\n",
       "    </tr>\n",
       "  </thead>\n",
       "  <tbody>\n",
       "    <tr>\n",
       "      <th>1001</th>\n",
       "      <td>M</td>\n",
       "      <td>divorced</td>\n",
       "      <td>44.27</td>\n",
       "      <td>2</td>\n",
       "      <td>legal</td>\n",
       "      <td>postgrad</td>\n",
       "      <td>10245.73</td>\n",
       "      <td>53183.04</td>\n",
       "      <td>4069.67</td>\n",
       "      <td>None</td>\n",
       "      <td>5.2</td>\n",
       "    </tr>\n",
       "    <tr>\n",
       "      <th>1002</th>\n",
       "      <td>M</td>\n",
       "      <td>married</td>\n",
       "      <td>61.90</td>\n",
       "      <td>1</td>\n",
       "      <td>legal</td>\n",
       "      <td>secondary</td>\n",
       "      <td>1942.57</td>\n",
       "      <td>18100.78</td>\n",
       "      <td>1522.42</td>\n",
       "      <td>None</td>\n",
       "      <td>2.5</td>\n",
       "    </tr>\n",
       "    <tr>\n",
       "      <th>1003</th>\n",
       "      <td>M</td>\n",
       "      <td>divorced</td>\n",
       "      <td>37.30</td>\n",
       "      <td>1</td>\n",
       "      <td>IT</td>\n",
       "      <td>tertiary</td>\n",
       "      <td>9896.16</td>\n",
       "      <td>24496.82</td>\n",
       "      <td>2723.35</td>\n",
       "      <td>None</td>\n",
       "      <td>4.1</td>\n",
       "    </tr>\n",
       "    <tr>\n",
       "      <th>1004</th>\n",
       "      <td>F</td>\n",
       "      <td>divorced</td>\n",
       "      <td>25.02</td>\n",
       "      <td>1</td>\n",
       "      <td>legal</td>\n",
       "      <td>postgrad</td>\n",
       "      <td>10136.44</td>\n",
       "      <td>26690.01</td>\n",
       "      <td>4143.04</td>\n",
       "      <td>None</td>\n",
       "      <td>4.4</td>\n",
       "    </tr>\n",
       "    <tr>\n",
       "      <th>1005</th>\n",
       "      <td>F</td>\n",
       "      <td>divorced</td>\n",
       "      <td>48.37</td>\n",
       "      <td>2</td>\n",
       "      <td>government</td>\n",
       "      <td>secondary</td>\n",
       "      <td>2521.11</td>\n",
       "      <td>13439.81</td>\n",
       "      <td>240.26</td>\n",
       "      <td>None</td>\n",
       "      <td>2.3</td>\n",
       "    </tr>\n",
       "  </tbody>\n",
       "</table>\n",
       "</div>"
      ],
      "text/plain": [
       "      sex   mstatus    age  children  occupation  education    income  \\\n",
       "index                                                                   \n",
       "1001    M  divorced  44.27         2       legal   postgrad  10245.73   \n",
       "1002    M   married  61.90         1       legal  secondary   1942.57   \n",
       "1003    M  divorced  37.30         1          IT   tertiary   9896.16   \n",
       "1004    F  divorced  25.02         1       legal   postgrad  10136.44   \n",
       "1005    F  divorced  48.37         2  government  secondary   2521.11   \n",
       "\n",
       "          avbal  avtrans status  p_score  \n",
       "index                                     \n",
       "1001   53183.04  4069.67   None      5.2  \n",
       "1002   18100.78  1522.42   None      2.5  \n",
       "1003   24496.82  2723.35   None      4.1  \n",
       "1004   26690.01  4143.04   None      4.4  \n",
       "1005   13439.81   240.26   None      2.3  "
      ]
     },
     "execution_count": 102,
     "metadata": {},
     "output_type": "execute_result"
    }
   ],
   "source": [
    "dfTrain.head()"
   ]
  },
  {
   "cell_type": "code",
   "execution_count": 103,
   "metadata": {},
   "outputs": [
    {
     "data": {
      "text/html": [
       "<div>\n",
       "<style>\n",
       "    .dataframe thead tr:only-child th {\n",
       "        text-align: right;\n",
       "    }\n",
       "\n",
       "    .dataframe thead th {\n",
       "        text-align: left;\n",
       "    }\n",
       "\n",
       "    .dataframe tbody tr th {\n",
       "        vertical-align: top;\n",
       "    }\n",
       "</style>\n",
       "<table border=\"1\" class=\"dataframe\">\n",
       "  <thead>\n",
       "    <tr style=\"text-align: right;\">\n",
       "      <th></th>\n",
       "      <th>age</th>\n",
       "      <th>children</th>\n",
       "      <th>income</th>\n",
       "      <th>avbal</th>\n",
       "      <th>avtrans</th>\n",
       "      <th>p_score</th>\n",
       "    </tr>\n",
       "  </thead>\n",
       "  <tbody>\n",
       "    <tr>\n",
       "      <th>count</th>\n",
       "      <td>4000.000000</td>\n",
       "      <td>4000.000000</td>\n",
       "      <td>4000.000000</td>\n",
       "      <td>4000.000000</td>\n",
       "      <td>4000.000000</td>\n",
       "      <td>4000.000000</td>\n",
       "    </tr>\n",
       "    <tr>\n",
       "      <th>mean</th>\n",
       "      <td>40.701337</td>\n",
       "      <td>0.915500</td>\n",
       "      <td>5308.354605</td>\n",
       "      <td>22321.316500</td>\n",
       "      <td>1932.156740</td>\n",
       "      <td>3.358550</td>\n",
       "    </tr>\n",
       "    <tr>\n",
       "      <th>std</th>\n",
       "      <td>14.074204</td>\n",
       "      <td>1.052681</td>\n",
       "      <td>3307.480857</td>\n",
       "      <td>11872.049604</td>\n",
       "      <td>1318.799637</td>\n",
       "      <td>0.860609</td>\n",
       "    </tr>\n",
       "    <tr>\n",
       "      <th>min</th>\n",
       "      <td>18.020000</td>\n",
       "      <td>0.000000</td>\n",
       "      <td>356.970000</td>\n",
       "      <td>88.000000</td>\n",
       "      <td>8.940000</td>\n",
       "      <td>1.400000</td>\n",
       "    </tr>\n",
       "    <tr>\n",
       "      <th>25%</th>\n",
       "      <td>28.530000</td>\n",
       "      <td>0.000000</td>\n",
       "      <td>2647.057500</td>\n",
       "      <td>13489.815000</td>\n",
       "      <td>993.750000</td>\n",
       "      <td>2.700000</td>\n",
       "    </tr>\n",
       "    <tr>\n",
       "      <th>50%</th>\n",
       "      <td>39.685000</td>\n",
       "      <td>1.000000</td>\n",
       "      <td>4669.165000</td>\n",
       "      <td>20276.015000</td>\n",
       "      <td>1583.885000</td>\n",
       "      <td>3.200000</td>\n",
       "    </tr>\n",
       "    <tr>\n",
       "      <th>75%</th>\n",
       "      <td>48.035000</td>\n",
       "      <td>2.000000</td>\n",
       "      <td>7208.450000</td>\n",
       "      <td>29826.920000</td>\n",
       "      <td>2500.380000</td>\n",
       "      <td>3.900000</td>\n",
       "    </tr>\n",
       "    <tr>\n",
       "      <th>max</th>\n",
       "      <td>89.820000</td>\n",
       "      <td>4.000000</td>\n",
       "      <td>19955.570000</td>\n",
       "      <td>88682.430000</td>\n",
       "      <td>8789.100000</td>\n",
       "      <td>7.100000</td>\n",
       "    </tr>\n",
       "  </tbody>\n",
       "</table>\n",
       "</div>"
      ],
      "text/plain": [
       "               age     children        income         avbal      avtrans  \\\n",
       "count  4000.000000  4000.000000   4000.000000   4000.000000  4000.000000   \n",
       "mean     40.701337     0.915500   5308.354605  22321.316500  1932.156740   \n",
       "std      14.074204     1.052681   3307.480857  11872.049604  1318.799637   \n",
       "min      18.020000     0.000000    356.970000     88.000000     8.940000   \n",
       "25%      28.530000     0.000000   2647.057500  13489.815000   993.750000   \n",
       "50%      39.685000     1.000000   4669.165000  20276.015000  1583.885000   \n",
       "75%      48.035000     2.000000   7208.450000  29826.920000  2500.380000   \n",
       "max      89.820000     4.000000  19955.570000  88682.430000  8789.100000   \n",
       "\n",
       "           p_score  \n",
       "count  4000.000000  \n",
       "mean      3.358550  \n",
       "std       0.860609  \n",
       "min       1.400000  \n",
       "25%       2.700000  \n",
       "50%       3.200000  \n",
       "75%       3.900000  \n",
       "max       7.100000  "
      ]
     },
     "execution_count": 103,
     "metadata": {},
     "output_type": "execute_result"
    }
   ],
   "source": [
    "dfTrain.describe()"
   ]
  },
  {
   "cell_type": "code",
   "execution_count": 104,
   "metadata": {},
   "outputs": [
    {
     "data": {
      "text/plain": [
       "Index(['sex', 'mstatus', 'age', 'children', 'occupation', 'education',\n",
       "       'income', 'avbal', 'avtrans', 'status', 'p_score'],\n",
       "      dtype='object')"
      ]
     },
     "execution_count": 104,
     "metadata": {},
     "output_type": "execute_result"
    }
   ],
   "source": [
    "dfTrain.columns"
   ]
  },
  {
   "cell_type": "code",
   "execution_count": 4,
   "metadata": {},
   "outputs": [
    {
     "data": {
      "text/plain": [
       "array(['legal', 'IT', 'government', 'manuf', 'retired', 'finance',\n",
       "       'construct', 'education', 'medicine'], dtype=object)"
      ]
     },
     "execution_count": 4,
     "metadata": {},
     "output_type": "execute_result"
    }
   ],
   "source": [
    "dfTrain['occupation'].unique()"
   ]
  },
  {
   "cell_type": "markdown",
   "metadata": {},
   "source": [
    "# Fuzzy \n",
    "## define fuzzy variables"
   ]
  },
  {
   "cell_type": "code",
   "execution_count": 19,
   "metadata": {
    "collapsed": true
   },
   "outputs": [],
   "source": [
    "# New Antecedent/Consequent objects hold universe variables and membership\n",
    "# functions\n",
    "age = ctrl.Antecedent(dfTrain['age'].sort_values(), 'age')\n",
    "children = ctrl.Antecedent(dfTrain['children'].sort_values(), 'children')\n",
    "income = ctrl.Antecedent(dfTrain['income'].sort_values(), 'income')\n",
    "avbal = ctrl.Antecedent(dfTrain['avbal'].sort_values(), 'avbal')\n",
    "avtrans = ctrl.Antecedent(dfTrain['avtrans'].sort_values(), 'avtrans')\n",
    "\n",
    "pscore = ctrl.Consequent(np.arange(0, 26, 1), 'p_score')\n",
    "\n",
    "# Auto-membership function population is possible with .automf(3, 5, or 7)\n",
    "age.automf(3)\n",
    "children.automf(3)\n",
    "income.automf(3)\n",
    "avbal.automf(3)\n",
    "avtrans.automf(3)\n",
    "\n",
    "# Custom membership functions can be built interactively with a familiar,\n",
    "# Pythonic API\n",
    "pscore['low'] = fuzz.trimf(pscore.universe, [0, 0, 13])\n",
    "pscore['medium'] = fuzz.trimf(pscore.universe, [0, 13, 25])\n",
    "pscore['high'] = fuzz.trimf(pscore.universe, [13, 25, 25])"
   ]
  },
  {
   "cell_type": "code",
   "execution_count": 22,
   "metadata": {},
   "outputs": [
    {
     "name": "stderr",
     "output_type": "stream",
     "text": [
      "/anaconda/lib/python3.6/site-packages/matplotlib/figure.py:403: UserWarning: matplotlib is currently using a non-GUI backend, so cannot show the figure\n",
      "  \"matplotlib is currently using a non-GUI backend, \"\n"
     ]
    },
    {
     "data": {
      "image/png": "[encoded data removed]",
      "text/plain": [
       "<matplotlib.figure.Figure at 0x11bb9f160>"
      ]
     },
     "metadata": {},
     "output_type": "display_data"
    }
   ],
   "source": [
    "avbal['average'].view()"
   ]
  },
  {
   "cell_type": "code",
   "execution_count": 9,
   "metadata": {},
   "outputs": [
    {
     "name": "stderr",
     "output_type": "stream",
     "text": [
      "/anaconda/lib/python3.6/site-packages/matplotlib/figure.py:403: UserWarning: matplotlib is currently using a non-GUI backend, so cannot show the figure\n",
      "  \"matplotlib is currently using a non-GUI backend, \"\n"
     ]
    },
    {
     "data": {
      "image/png": "[encoded data removed]",
      "text/plain": [
       "<matplotlib.figure.Figure at 0x10c465828>"
      ]
     },
     "metadata": {},
     "output_type": "display_data"
    }
   ],
   "source": [
    "pscore.view()"
   ]
  },
  {
   "cell_type": "code",
   "execution_count": 23,
   "metadata": {},
   "outputs": [
    {
     "name": "stderr",
     "output_type": "stream",
     "text": [
      "/anaconda/lib/python3.6/site-packages/networkx/drawing/nx_pylab.py:126: MatplotlibDeprecationWarning: pyplot.hold is deprecated.\n",
      "    Future behavior will be consistent with the long-time default:\n",
      "    plot commands add elements without first clearing the\n",
      "    Axes and/or Figure.\n",
      "  b = plt.ishold()\n",
      "/anaconda/lib/python3.6/site-packages/networkx/drawing/nx_pylab.py:138: MatplotlibDeprecationWarning: pyplot.hold is deprecated.\n",
      "    Future behavior will be consistent with the long-time default:\n",
      "    plot commands add elements without first clearing the\n",
      "    Axes and/or Figure.\n",
      "  plt.hold(b)\n",
      "/anaconda/lib/python3.6/site-packages/matplotlib/__init__.py:917: UserWarning: axes.hold is deprecated. Please remove it from your matplotlibrc and/or style files.\n",
      "  warnings.warn(self.msg_depr_set % key)\n",
      "/anaconda/lib/python3.6/site-packages/matplotlib/rcsetup.py:152: UserWarning: axes.hold is deprecated, will be removed in 3.0\n",
      "  warnings.warn(\"axes.hold is deprecated, will be removed in 3.0\")\n"
     ]
    },
    {
     "ename": "AttributeError",
     "evalue": "'tuple' object has no attribute 'show'",
     "output_type": "error",
     "traceback": [
      "\u001b[0;31m---------------------------------------------------------------------------\u001b[0m",
      "\u001b[0;31mAttributeError\u001b[0m                            Traceback (most recent call last)",
      "\u001b[0;32m<ipython-input-23-d613790166f9>\u001b[0m in \u001b[0;36m<module>\u001b[0;34m()\u001b[0m\n\u001b[1;32m      3\u001b[0m \u001b[0mrule3\u001b[0m \u001b[0;34m=\u001b[0m \u001b[0mctrl\u001b[0m\u001b[0;34m.\u001b[0m\u001b[0mRule\u001b[0m\u001b[0;34m(\u001b[0m\u001b[0mchildren\u001b[0m\u001b[0;34m[\u001b[0m\u001b[0;34m'poor'\u001b[0m\u001b[0;34m]\u001b[0m \u001b[0;34m|\u001b[0m \u001b[0mavtrans\u001b[0m\u001b[0;34m[\u001b[0m\u001b[0;34m'good'\u001b[0m\u001b[0;34m]\u001b[0m\u001b[0;34m,\u001b[0m \u001b[0mpscore\u001b[0m\u001b[0;34m[\u001b[0m\u001b[0;34m'high'\u001b[0m\u001b[0;34m]\u001b[0m\u001b[0;34m)\u001b[0m\u001b[0;34m\u001b[0m\u001b[0m\n\u001b[1;32m      4\u001b[0m \u001b[0;34m\u001b[0m\u001b[0m\n\u001b[0;32m----> 5\u001b[0;31m \u001b[0mrule1\u001b[0m\u001b[0;34m.\u001b[0m\u001b[0mview\u001b[0m\u001b[0;34m(\u001b[0m\u001b[0;34m)\u001b[0m\u001b[0;34m\u001b[0m\u001b[0m\n\u001b[0m",
      "\u001b[0;32m/anaconda/lib/python3.6/site-packages/skfuzzy/control/rule.py\u001b[0m in \u001b[0;36mview\u001b[0;34m(self)\u001b[0m\n\u001b[1;32m    245\u001b[0m         \u001b[0mShow\u001b[0m \u001b[0ma\u001b[0m \u001b[0mvisual\u001b[0m \u001b[0mrepresentation\u001b[0m \u001b[0mof\u001b[0m \u001b[0mthis\u001b[0m \u001b[0mRule\u001b[0m\u001b[0;34m.\u001b[0m\u001b[0;34m\u001b[0m\u001b[0m\n\u001b[1;32m    246\u001b[0m         \"\"\"\n\u001b[0;32m--> 247\u001b[0;31m         \u001b[0mControlSystemVisualizer\u001b[0m\u001b[0;34m(\u001b[0m\u001b[0mself\u001b[0m\u001b[0;34m)\u001b[0m\u001b[0;34m.\u001b[0m\u001b[0mview\u001b[0m\u001b[0;34m(\u001b[0m\u001b[0;34m)\u001b[0m\u001b[0;34m.\u001b[0m\u001b[0mshow\u001b[0m\u001b[0;34m(\u001b[0m\u001b[0;34m)\u001b[0m\u001b[0;34m\u001b[0m\u001b[0m\n\u001b[0m",
      "\u001b[0;31mAttributeError\u001b[0m: 'tuple' object has no attribute 'show'"
     ]
    },
    {
     "data": {
      "image/png": "[encoded data removed]",
      "text/plain": [
       "<matplotlib.figure.Figure at 0x11bd19b00>"
      ]
     },
     "metadata": {},
     "output_type": "display_data"
    }
   ],
   "source": [
    "rule1 = ctrl.Rule(age['poor'] | income['poor'], pscore['low'])\n",
    "rule2 = ctrl.Rule(avbal['average'], pscore['medium'])\n",
    "rule3 = ctrl.Rule(children['poor'] | avtrans['good'], pscore['high'])\n",
    "\n",
    "rule1.view()"
   ]
  },
  {
   "cell_type": "code",
   "execution_count": null,
   "metadata": {
    "collapsed": true
   },
   "outputs": [],
   "source": []
  }
 ],
 "metadata": {
  "kernelspec": {
   "display_name": "Python 3",
   "language": "python",
   "name": "python3"
  },
  "language_info": {
   "codemirror_mode": {
    "name": "ipython",
    "version": 3
   },
   "file_extension": ".py",
   "mimetype": "text/x-python",
   "name": "python",
   "nbconvert_exporter": "python",
   "pygments_lexer": "ipython3",
   "version": "3.6.1"
  }
 },
 "nbformat": 4,
 "nbformat_minor": 2
}
